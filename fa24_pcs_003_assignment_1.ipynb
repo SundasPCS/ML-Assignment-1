{
  "nbformat": 4,
  "nbformat_minor": 0,
  "metadata": {
    "colab": {
      "provenance": []
    },
    "kernelspec": {
      "name": "python3",
      "display_name": "Python 3"
    },
    "language_info": {
      "name": "python"
    }
  },
  "cells": [
    {
      "cell_type": "code",
      "execution_count": 2,
      "metadata": {
        "colab": {
          "base_uri": "https://localhost:8080/"
        },
        "id": "KTIexSIMHPHr",
        "outputId": "899ecb19-7119-4222-d604-b7faa8f5c398"
      },
      "outputs": [
        {
          "output_type": "stream",
          "name": "stdout",
          "text": [
            "{'parrot': 2, 'goat': 4, 'spider': 8, 'crab': 10}\n"
          ]
        }
      ],
      "source": [
        "# Question 1 onward\n",
        "# Creating a dictionary\n",
        "my_dict = {}\n",
        "\n",
        "# Adding value pairs\n",
        "my_dict['parrot'] = 2\n",
        "my_dict['goat'] = 4\n",
        "my_dict['spider'] = 8\n",
        "my_dict['crab'] = 10\n",
        "\n",
        "# Printing values\n",
        "print(my_dict)\n"
      ]
    },
    {
      "cell_type": "code",
      "source": [
        "# Initialize counter\n",
        "total_legs = 0\n",
        "\n",
        "# Loop for dictionary items\n",
        "for animal, legs in my_dict.items():\n",
        "    print(f'{animal} has {legs} legs')\n",
        "    total_legs += legs\n",
        "\n",
        "# Print sum\n",
        "print(f'Total legs: {total_legs}')\n"
      ],
      "metadata": {
        "colab": {
          "base_uri": "https://localhost:8080/"
        },
        "id": "Yck5hdxSJDX2",
        "outputId": "15b20b77-0e39-4249-f476-24c07ef74eae"
      },
      "execution_count": 3,
      "outputs": [
        {
          "output_type": "stream",
          "name": "stdout",
          "text": [
            "parrot has 2 legs\n",
            "goat has 4 legs\n",
            "spider has 8 legs\n",
            "crab has 10 legs\n",
            "Total legs: 24\n"
          ]
        }
      ]
    },
    {
      "cell_type": "code",
      "source": [
        "# list\n",
        "nums = [3, 5, 7, 8, 12]\n",
        "# Creating a new list\n",
        "cubes = [num ** 3 for num in nums]\n",
        "# Printing the cubes list\n",
        "print(cubes)\n"
      ],
      "metadata": {
        "colab": {
          "base_uri": "https://localhost:8080/"
        },
        "id": "m9SldgkXH3kZ",
        "outputId": "0ad2d5c2-8530-4bea-a63f-7bafa3b4d669"
      },
      "execution_count": 1,
      "outputs": [
        {
          "output_type": "stream",
          "name": "stdout",
          "text": [
            "[27, 125, 343, 512, 1728]\n"
          ]
        }
      ]
    },
    {
      "cell_type": "code",
      "source": [
        "# creating tuple\n",
        "A = (3, 9, 4, [5, 6])\n",
        "\n",
        "# changing the value\n",
        "A[3][0] = 8\n",
        "\n",
        "# Print changes\n",
        "print(A)\n",
        "\n",
        "# Delete tuple\n",
        "del A\n",
        "\n"
      ],
      "metadata": {
        "colab": {
          "base_uri": "https://localhost:8080/"
        },
        "id": "581ZpiexJ0X_",
        "outputId": "9efeb583-003e-4fe9-f071-cc6e0d135a03"
      },
      "execution_count": 4,
      "outputs": [
        {
          "output_type": "stream",
          "name": "stdout",
          "text": [
            "(3, 9, 4, [8, 6])\n"
          ]
        }
      ]
    },
    {
      "cell_type": "code",
      "source": [
        "# Initialize\n",
        "B = ('a', 'p', 'p', 'l', 'e')\n",
        "\n",
        "# Count occurrences of 'p'\n",
        "count_p = B.count('p')\n",
        "\n",
        "# Print\n",
        "print(f'Number of occurrences of \\'p\\': {count_p}')\n"
      ],
      "metadata": {
        "colab": {
          "base_uri": "https://localhost:8080/"
        },
        "id": "auWMBh9ZKgcc",
        "outputId": "672494ed-16ee-40e3-88cf-2e2010048a21"
      },
      "execution_count": 5,
      "outputs": [
        {
          "output_type": "stream",
          "name": "stdout",
          "text": [
            "Number of occurrences of 'p': 2\n"
          ]
        }
      ]
    },
    {
      "cell_type": "code",
      "source": [
        "\n",
        "index_l = B.index('l')\n",
        "\n",
        "# Print the index\n",
        "print(f'Index is \\'l\\': {index_l}')\n"
      ],
      "metadata": {
        "colab": {
          "base_uri": "https://localhost:8080/"
        },
        "id": "x6VaxE2eK5e8",
        "outputId": "01b89cc4-3df9-4167-c5ec-1812991ee47f"
      },
      "execution_count": 6,
      "outputs": [
        {
          "output_type": "stream",
          "name": "stdout",
          "text": [
            "Index is 'l': 3\n"
          ]
        }
      ]
    },
    {
      "cell_type": "code",
      "source": [
        "# Question 2 onward\n",
        "import numpy as np\n",
        "\n",
        "# Define the matrix as a nested list\n",
        "a = [\n",
        "    [1, 2, 3, 4],\n",
        "    [5, 6, 7, 8],\n",
        "    [9, 10, 11, 12]\n",
        "]\n",
        "\n",
        "# Converting\n",
        "array = np.array(a)\n",
        "\n",
        "# Print\n",
        "print(array)\n"
      ],
      "metadata": {
        "colab": {
          "base_uri": "https://localhost:8080/"
        },
        "id": "1B1B0iJBL_5L",
        "outputId": "a86e49e8-0c3f-4f46-86bf-1713f94eaf3e"
      },
      "execution_count": 7,
      "outputs": [
        {
          "output_type": "stream",
          "name": "stdout",
          "text": [
            "[[ 1  2  3  4]\n",
            " [ 5  6  7  8]\n",
            " [ 9 10 11 12]]\n"
          ]
        }
      ]
    },
    {
      "cell_type": "code",
      "source": [
        "import numpy as np\n",
        "\n",
        "# Define the matrix as a NumPy array\n",
        "A = np.array([\n",
        "    [1, 2, 3, 4],\n",
        "    [5, 6, 7, 8],\n",
        "    [9, 10, 11, 12]\n",
        "])\n",
        "\n",
        "# Use slicing\n",
        "b = A[:2, 1:3]\n",
        "\n",
        "# Print the resulting subarray\n",
        "print(b)\n"
      ],
      "metadata": {
        "colab": {
          "base_uri": "https://localhost:8080/"
        },
        "id": "ZZ9P3nwhMm-o",
        "outputId": "30820d83-5199-4ea1-8111-ce1c798cf3cf"
      },
      "execution_count": 8,
      "outputs": [
        {
          "output_type": "stream",
          "name": "stdout",
          "text": [
            "[[2 3]\n",
            " [6 7]]\n"
          ]
        }
      ]
    },
    {
      "cell_type": "code",
      "source": [
        "# Create\n",
        "C = np.zeros_like(A)\n",
        "\n",
        "# Print\n",
        "print(C)\n"
      ],
      "metadata": {
        "colab": {
          "base_uri": "https://localhost:8080/"
        },
        "id": "s2WCJhkEM5p6",
        "outputId": "8745d06d-1227-4a5c-9e82-a2968518deff"
      },
      "execution_count": 9,
      "outputs": [
        {
          "output_type": "stream",
          "name": "stdout",
          "text": [
            "[[0 0 0 0]\n",
            " [0 0 0 0]\n",
            " [0 0 0 0]]\n"
          ]
        }
      ]
    },
    {
      "cell_type": "code",
      "source": [
        "# Define the vector z\n",
        "z = np.array([1, 2, 3])\n"
      ],
      "metadata": {
        "id": "wmoSQ0m1Oqkd"
      },
      "execution_count": 11,
      "outputs": []
    },
    {
      "cell_type": "code",
      "source": [
        "# Define\n",
        "A = np.array([\n",
        "    [1, 2, 3, 4],\n",
        "    [5, 6, 7, 8],\n",
        "    [9, 10, 11, 12]\n",
        "])\n",
        "z = np.array([1, 0, 1])\n",
        "\n",
        "# Create\n",
        "C = np.zeros_like(A)\n",
        "\n",
        "\n",
        "for i in range(A.shape[1]):\n",
        "    C[:, i] = A[:, i] + z[i]\n",
        "\n",
        "# Print matrix C\n",
        "print(C)\n"
      ],
      "metadata": {
        "colab": {
          "base_uri": "https://localhost:8080/",
          "height": 211
        },
        "id": "7HbyREFiOub0",
        "outputId": "154a73fd-9c78-4979-be6e-4cfed4156b89"
      },
      "execution_count": 12,
      "outputs": [
        {
          "output_type": "error",
          "ename": "IndexError",
          "evalue": "index 3 is out of bounds for axis 0 with size 3",
          "traceback": [
            "\u001b[0;31m---------------------------------------------------------------------------\u001b[0m",
            "\u001b[0;31mIndexError\u001b[0m                                Traceback (most recent call last)",
            "\u001b[0;32m<ipython-input-12-711724ef4903>\u001b[0m in \u001b[0;36m<cell line: 13>\u001b[0;34m()\u001b[0m\n\u001b[1;32m     12\u001b[0m \u001b[0;34m\u001b[0m\u001b[0m\n\u001b[1;32m     13\u001b[0m \u001b[0;32mfor\u001b[0m \u001b[0mi\u001b[0m \u001b[0;32min\u001b[0m \u001b[0mrange\u001b[0m\u001b[0;34m(\u001b[0m\u001b[0mA\u001b[0m\u001b[0;34m.\u001b[0m\u001b[0mshape\u001b[0m\u001b[0;34m[\u001b[0m\u001b[0;36m1\u001b[0m\u001b[0;34m]\u001b[0m\u001b[0;34m)\u001b[0m\u001b[0;34m:\u001b[0m\u001b[0;34m\u001b[0m\u001b[0;34m\u001b[0m\u001b[0m\n\u001b[0;32m---> 14\u001b[0;31m     \u001b[0mC\u001b[0m\u001b[0;34m[\u001b[0m\u001b[0;34m:\u001b[0m\u001b[0;34m,\u001b[0m \u001b[0mi\u001b[0m\u001b[0;34m]\u001b[0m \u001b[0;34m=\u001b[0m \u001b[0mA\u001b[0m\u001b[0;34m[\u001b[0m\u001b[0;34m:\u001b[0m\u001b[0;34m,\u001b[0m \u001b[0mi\u001b[0m\u001b[0;34m]\u001b[0m \u001b[0;34m+\u001b[0m \u001b[0mz\u001b[0m\u001b[0;34m[\u001b[0m\u001b[0mi\u001b[0m\u001b[0;34m]\u001b[0m\u001b[0;34m\u001b[0m\u001b[0;34m\u001b[0m\u001b[0m\n\u001b[0m\u001b[1;32m     15\u001b[0m \u001b[0;34m\u001b[0m\u001b[0m\n\u001b[1;32m     16\u001b[0m \u001b[0;31m# Print matrix C\u001b[0m\u001b[0;34m\u001b[0m\u001b[0;34m\u001b[0m\u001b[0m\n",
            "\u001b[0;31mIndexError\u001b[0m: index 3 is out of bounds for axis 0 with size 3"
          ]
        }
      ]
    },
    {
      "cell_type": "code",
      "source": [
        "import numpy as np\n",
        "\n",
        "# Define matrix\n",
        "X = np.array([[1, 2], [3, 4]])\n",
        "Y = np.array([[5, 6], [7, 8]])\n",
        "v = np.array([9, 10])\n",
        "\n",
        "# Sum\n",
        "sum_matrix = X + Y\n",
        "print(\"Sum of matrices X and Y:\")\n",
        "print(sum_matrix)\n",
        "\n",
        "# multiplication\n",
        "product_matrix = X @ Y\n",
        "print(\"\\nProduct of matrices X and Y:\")\n",
        "print(product_matrix)\n",
        "\n",
        "# Suare root\n",
        "sqrt_Y = np.sqrt(Y)\n",
        "print(\"\\nElement-wise square root of matrix Y:\")\n",
        "print(sqrt_Y)\n",
        "\n",
        "# Dot product\n",
        "dot_product = X @ v\n",
        "print(\"\\nDot product of matrix X and vector v:\")\n",
        "print(dot_product)\n",
        "\n",
        "# column vise sum\n",
        "column_sums = np.sum(X, axis=0)\n",
        "print(\"\\nSum of each column of matrix X:\")\n",
        "print(column_sums)\n"
      ],
      "metadata": {
        "colab": {
          "base_uri": "https://localhost:8080/"
        },
        "id": "8WBZU0KKPrgf",
        "outputId": "2dc0b060-498a-43f1-e056-63107b781be6"
      },
      "execution_count": 13,
      "outputs": [
        {
          "output_type": "stream",
          "name": "stdout",
          "text": [
            "Sum of matrices X and Y:\n",
            "[[ 6  8]\n",
            " [10 12]]\n",
            "\n",
            "Product of matrices X and Y:\n",
            "[[19 22]\n",
            " [43 50]]\n",
            "\n",
            "Element-wise square root of matrix Y:\n",
            "[[2.23606798 2.44948974]\n",
            " [2.64575131 2.82842712]]\n",
            "\n",
            "Dot product of matrix X and vector v:\n",
            "[29 67]\n",
            "\n",
            "Sum of each column of matrix X:\n",
            "[4 6]\n"
          ]
        }
      ]
    },
    {
      "cell_type": "code",
      "source": [
        "# Question 3 onward\n",
        "# Function for velocity\n",
        "def Compute(distance, time):\n",
        "\n",
        "    if time == 0:\n",
        "        raise ValueError(\"Time cannot be zero.\")\n",
        "    velocity = distance / time\n",
        "    return velocity\n",
        "\n",
        "\n",
        "distance = 100\n",
        "time = 20\n",
        "velocity = Compute(distance, time)\n",
        "print(f\"Velocity: {velocity}\")\n",
        "\n",
        "# Create list of even numbers\n",
        "even_num = [i for i in range(2, 13, 2)]\n",
        "print(\"Even numbers up to 12:\", even_num)\n",
        "\n",
        "# Function to calculate the product of all entries in a list\n",
        "def mult(numbers):\n",
        "\n",
        "    product = 1\n",
        "    for number in numbers:\n",
        "        product *= number\n",
        "    return product\n",
        "\n",
        "# Calculate and print the product of the list 'even_num'\n",
        "product_of_even_num = mult(even_num)\n",
        "print(\"Product of all 'even_num':\", product_of_even_num)\n"
      ],
      "metadata": {
        "colab": {
          "base_uri": "https://localhost:8080/"
        },
        "id": "xS04UqEqQ32Y",
        "outputId": "9662cf63-4c07-47e7-acf1-f772cdf03b35"
      },
      "execution_count": 14,
      "outputs": [
        {
          "output_type": "stream",
          "name": "stdout",
          "text": [
            "Velocity: 5.0\n",
            "Even numbers up to 12: [2, 4, 6, 8, 10, 12]\n",
            "Product of all 'even_num': 46080\n"
          ]
        }
      ]
    },
    {
      "cell_type": "code",
      "source": [
        "# Question 4 onward\n",
        "import pandas as pd\n",
        "\n",
        "# Create DataFrame using dictionary\n",
        "data = {\n",
        "    'C1': [1, 2, 3, 5, 5],\n",
        "    'C2': [6, 7, 5, 4, 8],\n",
        "    'C3': [7, 9, 8, 6, 5],\n",
        "    'C4': [7, 5, 2, 8, 8]\n",
        "}\n",
        "\n",
        "# Create the DataFrame\n",
        "df = pd.DataFrame(data)\n",
        "\n",
        "# Print the DataFrame\n",
        "print(df)\n"
      ],
      "metadata": {
        "colab": {
          "base_uri": "https://localhost:8080/"
        },
        "id": "VCDqjgngSi1Q",
        "outputId": "4df1a4a2-4e75-47d5-f07b-488aba84072f"
      },
      "execution_count": 15,
      "outputs": [
        {
          "output_type": "stream",
          "name": "stdout",
          "text": [
            "   C1  C2  C3  C4\n",
            "0   1   6   7   7\n",
            "1   2   7   9   5\n",
            "2   3   5   8   2\n",
            "3   5   4   6   8\n",
            "4   5   8   5   8\n"
          ]
        }
      ]
    },
    {
      "cell_type": "code",
      "source": [
        "import pandas as pd\n",
        "\n",
        "\n",
        "data = {\n",
        "    'C1': [1, 2, 3, 5, 5],\n",
        "    'C2': [6, 7, 5, 4, 8],\n",
        "    'C3': [7, 9, 8, 6, 5],\n",
        "    'C4': [7, 5, 2, 8, 8]\n",
        "}\n",
        "\n",
        "df = pd.DataFrame(data)\n",
        "\n",
        "print(\"First two rows:\")\n",
        "print(df.head(2))\n",
        "\n",
        "print(\"\\nSecond column:\")\n",
        "print(df.iloc[:, 1])\n",
        "\n",
        "df.rename(columns={'C3': 'B3'}, inplace=True)\n",
        "print(\"\\nDataFrame with 'C3' to 'B3':\")\n",
        "print(df)\n",
        "\n",
        "df['Sum'] = None\n",
        "print(\"\\nDataFrame with new 'Sum' column added:\")\n",
        "print(df)\n",
        "\n",
        "df['Sum'] = df.sum(axis=1)\n",
        "print(\"\\nDataFrame with 'Sum' column updated:\")\n",
        "print(df)\n"
      ],
      "metadata": {
        "colab": {
          "base_uri": "https://localhost:8080/"
        },
        "id": "rrM8NJa2T-5p",
        "outputId": "47c4bd84-04f3-4da7-b549-4eed48dfea86"
      },
      "execution_count": 16,
      "outputs": [
        {
          "output_type": "stream",
          "name": "stdout",
          "text": [
            "First two rows:\n",
            "   C1  C2  C3  C4\n",
            "0   1   6   7   7\n",
            "1   2   7   9   5\n",
            "\n",
            "Second column:\n",
            "0    6\n",
            "1    7\n",
            "2    5\n",
            "3    4\n",
            "4    8\n",
            "Name: C2, dtype: int64\n",
            "\n",
            "DataFrame with 'C3' to 'B3':\n",
            "   C1  C2  B3  C4\n",
            "0   1   6   7   7\n",
            "1   2   7   9   5\n",
            "2   3   5   8   2\n",
            "3   5   4   6   8\n",
            "4   5   8   5   8\n",
            "\n",
            "DataFrame with new 'Sum' column added:\n",
            "   C1  C2  B3  C4   Sum\n",
            "0   1   6   7   7  None\n",
            "1   2   7   9   5  None\n",
            "2   3   5   8   2  None\n",
            "3   5   4   6   8  None\n",
            "4   5   8   5   8  None\n",
            "\n",
            "DataFrame with 'Sum' column updated:\n",
            "   C1  C2  B3  C4 Sum\n",
            "0   1   6   7   7  21\n",
            "1   2   7   9   5  23\n",
            "2   3   5   8   2  18\n",
            "3   5   4   6   8  23\n",
            "4   5   8   5   8  26\n"
          ]
        }
      ]
    },
    {
      "cell_type": "code",
      "source": [
        "import pandas as pd\n",
        "\n",
        "path=\"/content/sample_data/hello_sample.csv\"\n",
        "df=pd.read_csv(path)\n",
        "# Print the complete DataFrame\n",
        "print(df.to_string())\n",
        "\n",
        "# Print only the bottom 2 records of the DataFrame\n",
        "print(df.tail(2))\n",
        "\n",
        "# Print information about the DataFrame\n",
        "df.info()\n",
        "\n",
        "# Print the shape (rows x columns) of the DataFrame\n",
        "print(f'Shape of DataFrame: {df.shape[0]} rows x {df.shape[1]} columns')\n",
        "\n",
        "#  Sort the DataFrame using the 'Weight' column\n",
        "sorted_df = df.sort_values(by='Weight')\n",
        "print(sorted_df)\n",
        "\n",
        "# Check for null values and drop any rows with NaN values\n",
        "print(\"Null values in DataFrame:\\n\", df.isnull().sum())\n",
        "df_dropped = df.dropna()\n",
        "print(\"DataFrame after dropping NaN values:\\n\", df_dropped)"
      ],
      "metadata": {
        "colab": {
          "base_uri": "https://localhost:8080/"
        },
        "id": "62bd4dD9Yxjx",
        "outputId": "a9a570a9-34fb-4a7b-9544-f39fd4412c3b"
      },
      "execution_count": 20,
      "outputs": [
        {
          "output_type": "stream",
          "name": "stdout",
          "text": [
            "    Gender  F_Color     B_Month  Weight\n",
            "0     Male    Black       March      77\n",
            "1     Male      Red       March      72\n",
            "2     Male    Black     October      53\n",
            "3   Female     Blue    February      63\n",
            "4     Male    black    October       80\n",
            "5   Female    Black    december      97\n",
            "6     Male   Orange      August      60\n",
            "7   Female      Red   September      59\n",
            "8     Male     Blue        July      60\n",
            "9     Male     Blue         May      58\n",
            "10  Female      Red    October       60\n",
            "11    Male    Black   September      65\n",
            "12    Male    Green    December      85\n",
            "13    Male    Black       April      72\n",
            "14    Male    Green    January       90\n",
            "15    Male   Yellow   November       90\n",
            "16    Male    Black      August      54\n",
            "17    Male    Black     January      82\n",
            "18    Male  Mustard   December       60\n",
            "19  Female    Black    October       76\n",
            "20    Male    Black   February       67\n",
            "21    Male   Yellow       April      74\n",
            "22    Male      Red  September       66\n",
            "   Gender F_Color     B_Month  Weight\n",
            "21   Male  Yellow       April      74\n",
            "22   Male     Red  September       66\n",
            "<class 'pandas.core.frame.DataFrame'>\n",
            "RangeIndex: 23 entries, 0 to 22\n",
            "Data columns (total 4 columns):\n",
            " #   Column   Non-Null Count  Dtype \n",
            "---  ------   --------------  ----- \n",
            " 0   Gender   23 non-null     object\n",
            " 1   F_Color  23 non-null     object\n",
            " 2   B_Month  23 non-null     object\n",
            " 3   Weight   23 non-null     int64 \n",
            "dtypes: int64(1), object(3)\n",
            "memory usage: 864.0+ bytes\n",
            "Shape of DataFrame: 23 rows x 4 columns\n",
            "    Gender  F_Color     B_Month  Weight\n",
            "2     Male    Black     October      53\n",
            "16    Male    Black      August      54\n",
            "9     Male     Blue         May      58\n",
            "7   Female      Red   September      59\n",
            "18    Male  Mustard   December       60\n",
            "10  Female      Red    October       60\n",
            "6     Male   Orange      August      60\n",
            "8     Male     Blue        July      60\n",
            "3   Female     Blue    February      63\n",
            "11    Male    Black   September      65\n",
            "22    Male      Red  September       66\n",
            "20    Male    Black   February       67\n",
            "13    Male    Black       April      72\n",
            "1     Male      Red       March      72\n",
            "21    Male   Yellow       April      74\n",
            "19  Female    Black    October       76\n",
            "0     Male    Black       March      77\n",
            "4     Male    black    October       80\n",
            "17    Male    Black     January      82\n",
            "12    Male    Green    December      85\n",
            "14    Male    Green    January       90\n",
            "15    Male   Yellow   November       90\n",
            "5   Female    Black    december      97\n",
            "Null values in DataFrame:\n",
            " Gender     0\n",
            "F_Color    0\n",
            "B_Month    0\n",
            "Weight     0\n",
            "dtype: int64\n",
            "DataFrame after dropping NaN values:\n",
            "     Gender  F_Color     B_Month  Weight\n",
            "0     Male    Black       March      77\n",
            "1     Male      Red       March      72\n",
            "2     Male    Black     October      53\n",
            "3   Female     Blue    February      63\n",
            "4     Male    black    October       80\n",
            "5   Female    Black    december      97\n",
            "6     Male   Orange      August      60\n",
            "7   Female      Red   September      59\n",
            "8     Male     Blue        July      60\n",
            "9     Male     Blue         May      58\n",
            "10  Female      Red    October       60\n",
            "11    Male    Black   September      65\n",
            "12    Male    Green    December      85\n",
            "13    Male    Black       April      72\n",
            "14    Male    Green    January       90\n",
            "15    Male   Yellow   November       90\n",
            "16    Male    Black      August      54\n",
            "17    Male    Black     January      82\n",
            "18    Male  Mustard   December       60\n",
            "19  Female    Black    October       76\n",
            "20    Male    Black   February       67\n",
            "21    Male   Yellow       April      74\n",
            "22    Male      Red  September       66\n"
          ]
        }
      ]
    }
  ]
}